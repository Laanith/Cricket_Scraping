{
 "cells": [
  {
   "cell_type": "code",
   "execution_count": 176,
   "metadata": {},
   "outputs": [],
   "source": [
    "from selenium import webdriver \n",
    "import bs4\n",
    "from bs4 import BeautifulSoup\n",
    "import requests\n",
    "from selenium.webdriver.common.by import By\n",
    "from selenium.common.exceptions import NoSuchElementException"
   ]
  },
  {
   "cell_type": "code",
   "execution_count": 149,
   "metadata": {},
   "outputs": [],
   "source": [
    "wd = webdriver.Chrome()"
   ]
  },
  {
   "cell_type": "code",
   "execution_count": 144,
   "metadata": {},
   "outputs": [],
   "source": [
    "wd.get('https://www.cricketworldcup.com/teams')"
   ]
  },
  {
   "cell_type": "code",
   "execution_count": 145,
   "metadata": {},
   "outputs": [],
   "source": [
    "def get_team_urls():\n",
    "    team_links = []\n",
    "    team_tag = wd.find_elements(by=By.CSS_SELECTOR, value='.team-index__link')\n",
    "    team_links = [tag.get_attribute('href') for tag in team_tag]\n",
    "    return team_links\n",
    "    "
   ]
  },
  {
   "cell_type": "code",
   "execution_count": 146,
   "metadata": {},
   "outputs": [
    {
     "ename": "NoSuchWindowException",
     "evalue": "Message: no such window: target window already closed\nfrom unknown error: web view not found\n  (Session info: chrome=118.0.5993.118)\nStacktrace:\n\tGetHandleVerifier [0x00007FF64A008EF2+54786]\n\t(No symbol) [0x00007FF649F75612]\n\t(No symbol) [0x00007FF649E2A64B]\n\t(No symbol) [0x00007FF649E0A9F5]\n\t(No symbol) [0x00007FF649E90887]\n\t(No symbol) [0x00007FF649EA43CF]\n\t(No symbol) [0x00007FF649E8BC43]\n\t(No symbol) [0x00007FF649E60941]\n\t(No symbol) [0x00007FF649E61B84]\n\tGetHandleVerifier [0x00007FF64A357F52+3524194]\n\tGetHandleVerifier [0x00007FF64A3AD800+3874576]\n\tGetHandleVerifier [0x00007FF64A3A5D7F+3843215]\n\tGetHandleVerifier [0x00007FF64A0A5086+694166]\n\t(No symbol) [0x00007FF649F80A88]\n\t(No symbol) [0x00007FF649F7CA94]\n\t(No symbol) [0x00007FF649F7CBC2]\n\t(No symbol) [0x00007FF649F6CC83]\n\tBaseThreadInitThunk [0x00007FFB106C1F87+23]\n\tRtlUserThreadStart [0x00007FFB125B16B0+32]\n",
     "output_type": "error",
     "traceback": [
      "\u001b[1;31m---------------------------------------------------------------------------\u001b[0m",
      "\u001b[1;31mNoSuchWindowException\u001b[0m                     Traceback (most recent call last)",
      "\u001b[1;32md:\\Code\\CricketScraping\\scarape.ipynb Cell 5\u001b[0m line \u001b[0;36m1\n\u001b[1;32m----> <a href='vscode-notebook-cell:/d%3A/Code/CricketScraping/scarape.ipynb#X24sZmlsZQ%3D%3D?line=0'>1</a>\u001b[0m links \u001b[39m=\u001b[39m get_team_urls()\n",
      "\u001b[1;32md:\\Code\\CricketScraping\\scarape.ipynb Cell 5\u001b[0m line \u001b[0;36m3\n\u001b[0;32m      <a href='vscode-notebook-cell:/d%3A/Code/CricketScraping/scarape.ipynb#X24sZmlsZQ%3D%3D?line=0'>1</a>\u001b[0m \u001b[39mdef\u001b[39;00m \u001b[39mget_team_urls\u001b[39m():\n\u001b[0;32m      <a href='vscode-notebook-cell:/d%3A/Code/CricketScraping/scarape.ipynb#X24sZmlsZQ%3D%3D?line=1'>2</a>\u001b[0m     team_links \u001b[39m=\u001b[39m []\n\u001b[1;32m----> <a href='vscode-notebook-cell:/d%3A/Code/CricketScraping/scarape.ipynb#X24sZmlsZQ%3D%3D?line=2'>3</a>\u001b[0m     team_tag \u001b[39m=\u001b[39m wd\u001b[39m.\u001b[39;49mfind_elements(by\u001b[39m=\u001b[39;49mBy\u001b[39m.\u001b[39;49mCSS_SELECTOR, value\u001b[39m=\u001b[39;49m\u001b[39m'\u001b[39;49m\u001b[39m.team-index__link\u001b[39;49m\u001b[39m'\u001b[39;49m)\n\u001b[0;32m      <a href='vscode-notebook-cell:/d%3A/Code/CricketScraping/scarape.ipynb#X24sZmlsZQ%3D%3D?line=3'>4</a>\u001b[0m     team_links \u001b[39m=\u001b[39m [tag\u001b[39m.\u001b[39mget_attribute(\u001b[39m'\u001b[39m\u001b[39mhref\u001b[39m\u001b[39m'\u001b[39m) \u001b[39mfor\u001b[39;00m tag \u001b[39min\u001b[39;00m team_tag]\n\u001b[0;32m      <a href='vscode-notebook-cell:/d%3A/Code/CricketScraping/scarape.ipynb#X24sZmlsZQ%3D%3D?line=4'>5</a>\u001b[0m     \u001b[39mreturn\u001b[39;00m team_links\n",
      "File \u001b[1;32md:\\Python\\Lib\\site-packages\\selenium\\webdriver\\remote\\webdriver.py:768\u001b[0m, in \u001b[0;36mWebDriver.find_elements\u001b[1;34m(self, by, value)\u001b[0m\n\u001b[0;32m    764\u001b[0m     value \u001b[39m=\u001b[39m \u001b[39mf\u001b[39m\u001b[39m'\u001b[39m\u001b[39m[name=\u001b[39m\u001b[39m\"\u001b[39m\u001b[39m{\u001b[39;00mvalue\u001b[39m}\u001b[39;00m\u001b[39m\"\u001b[39m\u001b[39m]\u001b[39m\u001b[39m'\u001b[39m\n\u001b[0;32m    766\u001b[0m \u001b[39m# Return empty list if driver returns null\u001b[39;00m\n\u001b[0;32m    767\u001b[0m \u001b[39m# See https://github.com/SeleniumHQ/selenium/issues/4555\u001b[39;00m\n\u001b[1;32m--> 768\u001b[0m \u001b[39mreturn\u001b[39;00m \u001b[39mself\u001b[39;49m\u001b[39m.\u001b[39;49mexecute(Command\u001b[39m.\u001b[39;49mFIND_ELEMENTS, {\u001b[39m\"\u001b[39;49m\u001b[39musing\u001b[39;49m\u001b[39m\"\u001b[39;49m: by, \u001b[39m\"\u001b[39;49m\u001b[39mvalue\u001b[39;49m\u001b[39m\"\u001b[39;49m: value})[\u001b[39m\"\u001b[39m\u001b[39mvalue\u001b[39m\u001b[39m\"\u001b[39m] \u001b[39mor\u001b[39;00m []\n",
      "File \u001b[1;32md:\\Python\\Lib\\site-packages\\selenium\\webdriver\\remote\\webdriver.py:344\u001b[0m, in \u001b[0;36mWebDriver.execute\u001b[1;34m(self, driver_command, params)\u001b[0m\n\u001b[0;32m    342\u001b[0m response \u001b[39m=\u001b[39m \u001b[39mself\u001b[39m\u001b[39m.\u001b[39mcommand_executor\u001b[39m.\u001b[39mexecute(driver_command, params)\n\u001b[0;32m    343\u001b[0m \u001b[39mif\u001b[39;00m response:\n\u001b[1;32m--> 344\u001b[0m     \u001b[39mself\u001b[39;49m\u001b[39m.\u001b[39;49merror_handler\u001b[39m.\u001b[39;49mcheck_response(response)\n\u001b[0;32m    345\u001b[0m     response[\u001b[39m\"\u001b[39m\u001b[39mvalue\u001b[39m\u001b[39m\"\u001b[39m] \u001b[39m=\u001b[39m \u001b[39mself\u001b[39m\u001b[39m.\u001b[39m_unwrap_value(response\u001b[39m.\u001b[39mget(\u001b[39m\"\u001b[39m\u001b[39mvalue\u001b[39m\u001b[39m\"\u001b[39m, \u001b[39mNone\u001b[39;00m))\n\u001b[0;32m    346\u001b[0m     \u001b[39mreturn\u001b[39;00m response\n",
      "File \u001b[1;32md:\\Python\\Lib\\site-packages\\selenium\\webdriver\\remote\\errorhandler.py:229\u001b[0m, in \u001b[0;36mErrorHandler.check_response\u001b[1;34m(self, response)\u001b[0m\n\u001b[0;32m    227\u001b[0m         alert_text \u001b[39m=\u001b[39m value[\u001b[39m\"\u001b[39m\u001b[39malert\u001b[39m\u001b[39m\"\u001b[39m]\u001b[39m.\u001b[39mget(\u001b[39m\"\u001b[39m\u001b[39mtext\u001b[39m\u001b[39m\"\u001b[39m)\n\u001b[0;32m    228\u001b[0m     \u001b[39mraise\u001b[39;00m exception_class(message, screen, stacktrace, alert_text)  \u001b[39m# type: ignore[call-arg]  # mypy is not smart enough here\u001b[39;00m\n\u001b[1;32m--> 229\u001b[0m \u001b[39mraise\u001b[39;00m exception_class(message, screen, stacktrace)\n",
      "\u001b[1;31mNoSuchWindowException\u001b[0m: Message: no such window: target window already closed\nfrom unknown error: web view not found\n  (Session info: chrome=118.0.5993.118)\nStacktrace:\n\tGetHandleVerifier [0x00007FF64A008EF2+54786]\n\t(No symbol) [0x00007FF649F75612]\n\t(No symbol) [0x00007FF649E2A64B]\n\t(No symbol) [0x00007FF649E0A9F5]\n\t(No symbol) [0x00007FF649E90887]\n\t(No symbol) [0x00007FF649EA43CF]\n\t(No symbol) [0x00007FF649E8BC43]\n\t(No symbol) [0x00007FF649E60941]\n\t(No symbol) [0x00007FF649E61B84]\n\tGetHandleVerifier [0x00007FF64A357F52+3524194]\n\tGetHandleVerifier [0x00007FF64A3AD800+3874576]\n\tGetHandleVerifier [0x00007FF64A3A5D7F+3843215]\n\tGetHandleVerifier [0x00007FF64A0A5086+694166]\n\t(No symbol) [0x00007FF649F80A88]\n\t(No symbol) [0x00007FF649F7CA94]\n\t(No symbol) [0x00007FF649F7CBC2]\n\t(No symbol) [0x00007FF649F6CC83]\n\tBaseThreadInitThunk [0x00007FFB106C1F87+23]\n\tRtlUserThreadStart [0x00007FFB125B16B0+32]\n"
     ]
    }
   ],
   "source": [
    "links = get_team_urls()"
   ]
  },
  {
   "cell_type": "code",
   "execution_count": null,
   "metadata": {},
   "outputs": [],
   "source": [
    "def get_player_urls(team_links):\n",
    "    player_urls = []\n",
    "    for link in team_links:\n",
    "        country = link.split('/')[-1].upper()\n",
    "        wd.get(link)\n",
    "        elements = wd.find_elements(by=By.CSS_SELECTOR,value='.player-profile-squad-list__list-item-link')\n",
    "        for a_tag in elements:\n",
    "            player_urls.append(a_tag.get_attribute('href'))\n",
    "        print(f'country { country} completed')\n",
    "    return player_urls              \n",
    "    "
   ]
  },
  {
   "cell_type": "code",
   "execution_count": null,
   "metadata": {},
   "outputs": [
    {
     "name": "stdout",
     "output_type": "stream",
     "text": [
      "country AFGHANISTAN completed\n",
      "country AUSTRALIA completed\n",
      "country BANGLADESH completed\n",
      "country ENGLAND completed\n",
      "country INDIA completed\n",
      "country NETHERLANDS completed\n",
      "country NEW-ZEALAND completed\n",
      "country PAKISTAN completed\n",
      "country SOUTH-AFRICA completed\n",
      "country SRI-LANKA completed\n"
     ]
    }
   ],
   "source": [
    "player_urls = get_player_urls(links)"
   ]
  },
  {
   "cell_type": "code",
   "execution_count": 177,
   "metadata": {},
   "outputs": [],
   "source": [
    "from datetime import datetime\n",
    "import time\n",
    "\n",
    "\n",
    "def getPlayerDetails(playerurl):\n",
    "    wd.get(playerurl)\n",
    "    time.sleep(3)\n",
    "    country = playerurl.split('/')[-3].upper()\n",
    "    dic = {}\n",
    "    bio = wd.find_element(by=By.CSS_SELECTOR, value='.player-profile-header__info')\n",
    "    imgurl = bio.find_element(by=By.CSS_SELECTOR, value='.player-profile-header__photo').get_attribute('src')\n",
    "    name = bio.find_element(by=By.CSS_SELECTOR, value='.player-profile-header__title').text.replace('\\n',' ')\n",
    "    dic['name'] = name\n",
    "    dic['country'] = country\n",
    "    dic['imagesource'] = imgurl\n",
    "    item = [tag.text for tag in bio.find_elements(by=By.CSS_SELECTOR, value='.player-profile-header__meta-text')]\n",
    "    dic[item[0].split(':')[0].lower()] = item[0].split(':')[1].lower().strip()\n",
    "    dic[item[1].split(':')[0].lower()] = item[1].split(':')[1].lower().strip()\n",
    "    if dic['role'] == '-':\n",
    "        dic['role'] = 'N/A'\n",
    "    dob = item[2].split(':')[1].lower().strip()\n",
    "    if dob != '-':\n",
    "        dt = datetime.strptime(dob, '%d %b %Y')\n",
    "        formatted_date = dt.strftime('%d-%m-%Y') \n",
    "        dic['DateOfBirth'] =  formatted_date\n",
    "    else :\n",
    "        dic['DateOfBirth'] = 'N/A'\n",
    "    dod = item[3].split(':')[1].lower().strip()\n",
    "    if dod != '-':\n",
    "        dt = datetime.strptime(dod, '%d %b %Y')\n",
    "        formatted_debut_date = dt.strftime('%d-%m-%Y') \n",
    "        dic['DateOfDebut'] =  formatted_debut_date\n",
    "    else :\n",
    "        dic['DateOfDebut'] = 'N/A'\n",
    "    try :\n",
    "        batting = wd.find_element(by=By.CSS_SELECTOR, value='.player-rankings-stats__section.player-rankings-stats__section--batting' )\n",
    "    except NoSuchElementException:\n",
    "        batting = None\n",
    "    if batting and 'N/A' not in batting.text :\n",
    "        text = batting.text.lower().split('\\n')\n",
    "        text = [element.replace(' ','_') for element in text]\n",
    "        dic[text[0]+'_'+text[1]] = int(text[2])\n",
    "        dic[text[0]+'_'+text[4]] = int(text[5])\n",
    "        dic[text[0]+'_'+text[6]] = int(text[7])\n",
    "        dic[text[0]+'_'+text[6]+'_on'] = text[9].replace('/','-')\n",
    "        dic[text[0]+'_'+text[10]] = int(text[11])\n",
    "        dic[text[0]+'_'+text[10]+'_on'] = text[12].replace('/','-')\n",
    "    else :\n",
    "        dic['odi_batting_current_ranking'] = 'N/A'\n",
    "        dic['odi_batting_current_rating'] = 'N/A'\n",
    "        dic['odi_batting_highest_ranking'] = 'N/A'\n",
    "        dic['odi_batting_highest_ranking_on'] = 'N/A'\n",
    "        dic['odi_batting_highest_rating'] = 'N/A'\n",
    "        dic['odi_batting_highest_rating_on'] = 'N/A'     \n",
    "    try :\n",
    "        bowling = wd.find_element(by=By.CSS_SELECTOR, value='.player-rankings-stats__section.player-rankings-stats__section--bowling' )\n",
    "    except NoSuchElementException:\n",
    "        bowling = None\n",
    "    if bowling and 'N/A' not in bowling.text :\n",
    "        text = bowling.text.lower().split('\\n')\n",
    "        text = [element.replace(' ','_') for element in text]\n",
    "        dic[text[0]+'_'+text[1]] = int(text[2])\n",
    "        dic[text[0]+'_'+text[4]] = int(text[5])\n",
    "        dic[text[0]+'_'+text[6]] = int(text[7])\n",
    "        dic[text[0]+'_'+text[6]+'_on'] = text[9].replace('/','-')\n",
    "        dic[text[0]+'_'+text[10]] = int(text[11])\n",
    "        dic[text[0]+'_'+text[10]+'_on'] = text[12].replace('/','-')\n",
    "    else :\n",
    "        dic['odi_bowling_current_ranking'] = 'N/A'\n",
    "        dic['odi_bowling_current_rating'] = 'N/A'\n",
    "        dic['odi_bowling_highest_ranking'] = 'N/A'\n",
    "        dic['odi_bowling_highest_ranking_on'] = 'N/A'\n",
    "        dic['odi_bowling_highest_rating'] = 'N/A'\n",
    "        dic['odi_bowling_highest_rating_on'] = 'N/A'  \n",
    "    try :\n",
    "        allround = wd.find_element(by=By.CSS_SELECTOR, value='.player-rankings-stats__section.player-rankings-stats__section--allround' )\n",
    "    except :\n",
    "        allround = None\n",
    "    if allround and 'N/A' not in allround.text :\n",
    "        text = allround.text.lower().split('\\n')\n",
    "        text = [element.replace(' ','_') for element in text]\n",
    "        dic[text[0]+'_'+text[1]] = int(text[2])\n",
    "        dic[text[0]+'_'+text[4]] = int(text[5])\n",
    "        dic[text[0]+'_'+text[6]] = int(text[7])\n",
    "        dic[text[0]+'_'+text[6]+'_on'] = text[9].replace('/','-')\n",
    "        dic[text[0]+'_'+text[10]] = int(text[11])\n",
    "        dic[text[0]+'_'+text[10]+'_on'] = text[12].replace('/','-')\n",
    "    else :\n",
    "        dic['odi_allround_current_ranking'] = 'N/A'\n",
    "        dic['odi_allround_current_rating'] = 'N/A'\n",
    "        dic['odi_allround_highest_ranking'] = 'N/A'\n",
    "        dic['odi_allround_highest_ranking_on'] = 'N/A'\n",
    "        dic['odi_allround_highest_rating'] = 'N/A'\n",
    "        dic['odi_allround_highest_rating_on'] = 'N/A' \n",
    "    return dic\n"
   ]
  },
  {
   "cell_type": "code",
   "execution_count": 180,
   "metadata": {},
   "outputs": [
    {
     "name": "stdout",
     "output_type": "stream",
     "text": [
      "Player 0 of name HASHMAT SHAHIDI from country AFGHANISTAN completed\n",
      "Player 1 of name RAHMAT SHAH from country AFGHANISTAN completed\n",
      "Player 2 of name NAJIB ZADRAN from country AFGHANISTAN completed\n",
      "Player 3 of name RASHID KHAN from country AFGHANISTAN completed\n",
      "Player 4 of name AZMAT OMARZAI from country AFGHANISTAN completed\n",
      "Player 5 of name REYAZ HASSAN from country AFGHANISTAN completed\n",
      "Player 6 of name FAZAL FAROOQI from country AFGHANISTAN completed\n",
      "Player 7 of name NOOR AHMAD from country AFGHANISTAN completed\n",
      "Player 8 of name MOHAMMAD NABI from country AFGHANISTAN completed\n",
      "Player 9 of name NAVEEN-UL-HAQ from country AFGHANISTAN completed\n",
      "Player 10 of name MUJEEB UR RAHMAN from country AFGHANISTAN completed\n",
      "Player 11 of name IKRAM ALI KHIL from country AFGHANISTAN completed\n",
      "Player 12 of name IBRAHIM ZADRAN from country AFGHANISTAN completed\n",
      "Player 13 of name RAHMANULLAH GURBAZ from country AFGHANISTAN completed\n",
      "Player 14 of name ABDUL RAHMAN from country AFGHANISTAN completed\n",
      "Player 15 of name MITCH MARSH from country AUSTRALIA completed\n",
      "Player 16 of name GLENN MAXWELL from country AUSTRALIA completed\n",
      "Player 17 of name STEVE SMITH from country AUSTRALIA completed\n",
      "Player 18 of name DAVID WARNER from country AUSTRALIA completed\n",
      "Player 19 of name PAT CUMMINS from country AUSTRALIA completed\n",
      "Player 20 of name JOSH HAZLEWOOD from country AUSTRALIA completed\n",
      "Player 21 of name ADAM ZAMPA from country AUSTRALIA completed\n",
      "Player 22 of name ALEX CAREY from country AUSTRALIA completed\n",
      "Player 23 of name JOSH INGLIS from country AUSTRALIA completed\n",
      "Player 24 of name MITCHELL STARC from country AUSTRALIA completed\n",
      "Player 25 of name TRAVIS HEAD from country AUSTRALIA completed\n",
      "Player 26 of name SEAN ABBOTT from country AUSTRALIA completed\n",
      "Player 27 of name MARCUS STOINIS from country AUSTRALIA completed\n",
      "Player 28 of name CAMERON GREEN from country AUSTRALIA completed\n",
      "Player 29 of name MARNUS LABUSCHAGNE from country AUSTRALIA completed\n",
      "Player 30 of name SHAKIB AL HASAN from country BANGLADESH completed\n",
      "Player 31 of name MUSHFIQUR RAHIM from country BANGLADESH completed\n",
      "Player 32 of name MUSTAFIZUR RAHMAN from country BANGLADESH completed\n",
      "Player 33 of name MEHIDY HASSAN MIRAZ from country BANGLADESH completed\n",
      "Player 34 of name HASAN MAHMUD from country BANGLADESH completed\n",
      "Player 35 of name SHORIFUL ISLAM from country BANGLADESH completed\n",
      "Player 36 of name TANZID HASAN TAMIM from country BANGLADESH completed\n",
      "Player 37 of name TANZIM HASAN SAKIB from country BANGLADESH completed\n",
      "Player 38 of name TASKIN AHMED from country BANGLADESH completed\n",
      "Player 39 of name MAHMUDULLAH RIYAD from country BANGLADESH completed\n",
      "Player 40 of name LITTON DAS from country BANGLADESH completed\n",
      "Player 41 of name SHEIKH MAHEDI HASAN from country BANGLADESH completed\n",
      "Player 42 of name NAJMUL SHANTO from country BANGLADESH completed\n",
      "Player 43 of name NASUM AHMED from country BANGLADESH completed\n",
      "Player 44 of name TAWHID HRIDOY from country BANGLADESH completed\n",
      "Player 45 of name BEN STOKES from country ENGLAND completed\n",
      "Player 46 of name JOE ROOT from country ENGLAND completed\n",
      "Player 47 of name CHRIS WOAKES from country ENGLAND completed\n",
      "Player 48 of name JOS BUTTLER from country ENGLAND completed\n",
      "Player 49 of name ADIL RASHID from country ENGLAND completed\n",
      "Player 50 of name DAWID MALAN from country ENGLAND completed\n",
      "Player 51 of name LIAM LIVINGSTONE from country ENGLAND completed\n",
      "Player 52 of name MOEEN ALI from country ENGLAND completed\n",
      "Player 53 of name JONATHAN BAIRSTOW from country ENGLAND completed\n",
      "Player 54 of name MARK WOOD from country ENGLAND completed\n",
      "Player 55 of name GUS ATKINSON from country ENGLAND completed\n",
      "Player 56 of name SAM CURRAN from country ENGLAND completed\n",
      "Player 57 of name DAVID WILLEY from country ENGLAND completed\n",
      "Player 58 of name HARRY BROOK from country ENGLAND completed\n",
      "Player 59 of name BRYDON CARSE from country ENGLAND completed\n",
      "Player 60 of name VIRAT KOHLI from country INDIA completed\n",
      "Player 61 of name ROHIT SHARMA from country INDIA completed\n",
      "Player 62 of name RAVINDRA JADEJA from country INDIA completed\n",
      "Player 63 of name MOHAMMAD SHAMI from country INDIA completed\n",
      "Player 64 of name KL RAHUL from country INDIA completed\n",
      "Player 65 of name HARDIK PANDYA from country INDIA completed\n",
      "Player 66 of name JASPRIT BUMRAH from country INDIA completed\n",
      "Player 67 of name SHREYAS IYER from country INDIA completed\n",
      "Player 68 of name MOHAMMED SIRAJ from country INDIA completed\n",
      "Player 69 of name ISHAN KISHAN from country INDIA completed\n",
      "Player 70 of name KULDEEP YADAV from country INDIA completed\n",
      "Player 71 of name SHARDUL THAKUR from country INDIA completed\n",
      "Player 72 of name SHUBMAN GILL from country INDIA completed\n",
      "Player 73 of name SURYA KUMAR YADAV from country INDIA completed\n",
      "Player 74 of name RAVICHANDRAN ASHWIN from country INDIA completed\n",
      "Player 75 of name MAX O'DOWD from country NETHERLANDS completed\n",
      "Player 76 of name WESLEY BARRESI from country NETHERLANDS completed\n",
      "Player 77 of name PAUL VAN MEEKEREN from country NETHERLANDS completed\n",
      "Player 78 of name ROELOF VAN DER MERWE from country NETHERLANDS completed\n",
      "Player 79 of name SAQIB ZULFIQAR from country NETHERLANDS completed\n",
      "Player 80 of name VIKRAM SINGH from country NETHERLANDS completed\n",
      "Player 81 of name ARYAN DUTT from country NETHERLANDS completed\n",
      "Player 82 of name RYAN KLEIN from country NETHERLANDS completed\n",
      "Player 83 of name TEJA NIDAMANURU from country NETHERLANDS completed\n",
      "Player 84 of name BAS DE LEEDE from country NETHERLANDS completed\n",
      "Player 85 of name SCOTT EDWARDS from country NETHERLANDS completed\n",
      "Player 86 of name COLIN ACKERMANN from country NETHERLANDS completed\n",
      "Player 87 of name LOGAN VAN BEEK from country NETHERLANDS completed\n",
      "Player 88 of name SHARIZ AHMAD from country NETHERLANDS completed\n",
      "Player 89 of name SYBRAND ENGELBRECHT from country NETHERLANDS completed\n",
      "Player 90 of name MATT HENRY from country NEW-ZEALAND completed\n",
      "Player 91 of name WILL YOUNG from country NEW-ZEALAND completed\n",
      "Player 92 of name MITCH SANTNER from country NEW-ZEALAND completed\n",
      "Player 93 of name ISH SODHI from country NEW-ZEALAND completed\n",
      "Player 94 of name JIMMY NEESHAM from country NEW-ZEALAND completed\n",
      "Player 95 of name KANE WILLIAMSON from country NEW-ZEALAND completed\n",
      "Player 96 of name TIM SOUTHEE from country NEW-ZEALAND completed\n",
      "Player 97 of name TOM LATHAM from country NEW-ZEALAND completed\n",
      "Player 98 of name TRENT BOULT from country NEW-ZEALAND completed\n",
      "Player 99 of name GLENN PHILLIPS from country NEW-ZEALAND completed\n",
      "Player 100 of name LOCKIE FERGUSON from country NEW-ZEALAND completed\n",
      "Player 101 of name MARK CHAPMAN from country NEW-ZEALAND completed\n",
      "Player 102 of name DARYL MITCHELL from country NEW-ZEALAND completed\n",
      "Player 103 of name DEVON CONWAY from country NEW-ZEALAND completed\n",
      "Player 104 of name RACHIN RAVINDRA from country NEW-ZEALAND completed\n",
      "Player 105 of name IFTIKHAR AHMED from country PAKISTAN completed\n",
      "Player 106 of name MOHAMMAD RIZWAN from country PAKISTAN completed\n",
      "Player 107 of name BABAR AZAM from country PAKISTAN completed\n",
      "Player 108 of name MOHAMMAD NAWAZ from country PAKISTAN completed\n",
      "Player 109 of name ALI AGHA SALMAN from country PAKISTAN completed\n",
      "Player 110 of name SAUD SHAKEEL from country PAKISTAN completed\n",
      "Player 111 of name MOHAMMAD WASIM from country PAKISTAN completed\n",
      "Player 112 of name USAMA MIR from country PAKISTAN completed\n",
      "Player 113 of name HASSAN ALI from country PAKISTAN completed\n",
      "Player 114 of name SHADAB KHAN from country PAKISTAN completed\n",
      "Player 115 of name IMAM-UL-HAQ IMAM-UL-HAQ from country PAKISTAN completed\n",
      "Player 116 of name SHAHEEN AFRIDI from country PAKISTAN completed\n",
      "Player 117 of name FAKHAR ZAMAN from country PAKISTAN completed\n",
      "Player 118 of name HARIS RAUF from country PAKISTAN completed\n",
      "Player 119 of name ABDULLAH SHAFIQUE from country PAKISTAN completed\n",
      "Player 120 of name KAGISO RABADA from country SOUTH-AFRICA completed\n",
      "Player 121 of name TABRAIZ SHAMSI from country SOUTH-AFRICA completed\n",
      "Player 122 of name MARCO JANSEN from country SOUTH-AFRICA completed\n",
      "Player 123 of name KESHAV MAHARAJ from country SOUTH-AFRICA completed\n",
      "Player 124 of name DAVID MILLER from country SOUTH-AFRICA completed\n",
      "Player 125 of name RASSIE VAN DER DUSSEN from country SOUTH-AFRICA completed\n",
      "Player 126 of name TEMBA BAVUMA from country SOUTH-AFRICA completed\n",
      "Player 127 of name REEZA HENDRICKS from country SOUTH-AFRICA completed\n",
      "Player 128 of name LUNGI NGIDI from country SOUTH-AFRICA completed\n",
      "Player 129 of name AIDEN MARKRAM from country SOUTH-AFRICA completed\n",
      "Player 130 of name HEINRICH KLAASEN from country SOUTH-AFRICA completed\n",
      "Player 131 of name GERALD COETZEE from country SOUTH-AFRICA completed\n",
      "Player 132 of name QUINTON DE KOCK from country SOUTH-AFRICA completed\n",
      "Player 133 of name ANDILE PHEHLUKWAYO from country SOUTH-AFRICA completed\n",
      "Player 134 of name LIZAAD WILLIAMS from country SOUTH-AFRICA completed\n",
      "Player 135 of name KUSAL MENDIS from country SRI-LANKA completed\n",
      "Player 136 of name PATHUM NISSANKA from country SRI-LANKA completed\n",
      "Player 137 of name DUSHAN HEMANTHA from country SRI-LANKA completed\n",
      "Player 138 of name DIMUTH KARUNARATNE from country SRI-LANKA completed\n",
      "Player 139 of name KUSAL PERERA from country SRI-LANKA completed\n",
      "Player 140 of name KASUN RAJITHA from country SRI-LANKA completed\n",
      "Player 141 of name DHANANJAYA DE SILVA from country SRI-LANKA completed\n",
      "Player 142 of name SADEERA SAMARAWICKRAMA from country SRI-LANKA completed\n",
      "Player 143 of name CHARITH ASALANKA from country SRI-LANKA completed\n",
      "Player 144 of name DILSHAN MADUSHANKA from country SRI-LANKA completed\n",
      "Player 145 of name MAHEESH THEEKSHANA from country SRI-LANKA completed\n",
      "Player 146 of name DUNITH WELLALAGE from country SRI-LANKA completed\n",
      "Player 147 of name CHAMIKA KARUNARATNE from country SRI-LANKA completed\n",
      "Player 148 of name ANGELO MATHEWS from country SRI-LANKA completed\n",
      "Player 149 of name DUSHMANTHA CHAMEERA from country SRI-LANKA completed\n"
     ]
    }
   ],
   "source": [
    "lis = []\n",
    "for index,player in enumerate(player_urls):\n",
    "    content = getPlayerDetails(player)\n",
    "    lis.append(content)\n",
    "    print(f'Player {index} of name {content[\"name\"]} from country {content[\"country\"]} completed')"
   ]
  },
  {
   "cell_type": "code",
   "execution_count": 181,
   "metadata": {},
   "outputs": [],
   "source": [
    "import pandas as pd"
   ]
  },
  {
   "cell_type": "code",
   "execution_count": 182,
   "metadata": {},
   "outputs": [],
   "source": [
    "df = pd.DataFrame(lis)"
   ]
  },
  {
   "cell_type": "code",
   "execution_count": 185,
   "metadata": {},
   "outputs": [],
   "source": [
    "df.to_json('ICC_WorldCup2023_players.json')"
   ]
  },
  {
   "cell_type": "code",
   "execution_count": 186,
   "metadata": {},
   "outputs": [],
   "source": [
    "df = df.transpose()"
   ]
  },
  {
   "cell_type": "code",
   "execution_count": 187,
   "metadata": {},
   "outputs": [],
   "source": [
    "df.to_json('ICC_WC_2023Players.json')"
   ]
  },
  {
   "cell_type": "code",
   "execution_count": 193,
   "metadata": {},
   "outputs": [
    {
     "ename": "TypeError",
     "evalue": "Index(...) must be called with a collection of some kind, 'country' was passed",
     "output_type": "error",
     "traceback": [
      "\u001b[1;31m---------------------------------------------------------------------------\u001b[0m",
      "\u001b[1;31mTypeError\u001b[0m                                 Traceback (most recent call last)",
      "\u001b[1;32md:\\Code\\CricketScraping\\scarape.ipynb Cell 15\u001b[0m line \u001b[0;36m2\n\u001b[0;32m      <a href='vscode-notebook-cell:/d%3A/Code/CricketScraping/scarape.ipynb#X53sZmlsZQ%3D%3D?line=0'>1</a>\u001b[0m df \u001b[39m=\u001b[39m df\u001b[39m.\u001b[39mtranspose()\n\u001b[1;32m----> <a href='vscode-notebook-cell:/d%3A/Code/CricketScraping/scarape.ipynb#X53sZmlsZQ%3D%3D?line=1'>2</a>\u001b[0m df \u001b[39m=\u001b[39m pd\u001b[39m.\u001b[39;49mDataFrame(df, index\u001b[39m=\u001b[39;49m\u001b[39m'\u001b[39;49m\u001b[39mcountry\u001b[39;49m\u001b[39m'\u001b[39;49m)\n",
      "File \u001b[1;32md:\\Python\\Lib\\site-packages\\pandas\\core\\frame.py:703\u001b[0m, in \u001b[0;36mDataFrame.__init__\u001b[1;34m(self, data, index, columns, dtype, copy)\u001b[0m\n\u001b[0;32m    700\u001b[0m     data \u001b[39m=\u001b[39m []\n\u001b[0;32m    702\u001b[0m \u001b[39mif\u001b[39;00m \u001b[39misinstance\u001b[39m(data, (BlockManager, ArrayManager)):\n\u001b[1;32m--> 703\u001b[0m     mgr \u001b[39m=\u001b[39m \u001b[39mself\u001b[39;49m\u001b[39m.\u001b[39;49m_init_mgr(\n\u001b[0;32m    704\u001b[0m         data, axes\u001b[39m=\u001b[39;49m{\u001b[39m\"\u001b[39;49m\u001b[39mindex\u001b[39;49m\u001b[39m\"\u001b[39;49m: index, \u001b[39m\"\u001b[39;49m\u001b[39mcolumns\u001b[39;49m\u001b[39m\"\u001b[39;49m: columns}, dtype\u001b[39m=\u001b[39;49mdtype, copy\u001b[39m=\u001b[39;49mcopy\n\u001b[0;32m    705\u001b[0m     )\n\u001b[0;32m    707\u001b[0m \u001b[39melif\u001b[39;00m \u001b[39misinstance\u001b[39m(data, \u001b[39mdict\u001b[39m):\n\u001b[0;32m    708\u001b[0m     \u001b[39m# GH#38939 de facto copy defaults to False only in non-dict cases\u001b[39;00m\n\u001b[0;32m    709\u001b[0m     mgr \u001b[39m=\u001b[39m dict_to_mgr(data, index, columns, dtype\u001b[39m=\u001b[39mdtype, copy\u001b[39m=\u001b[39mcopy, typ\u001b[39m=\u001b[39mmanager)\n",
      "File \u001b[1;32md:\\Python\\Lib\\site-packages\\pandas\\core\\generic.py:294\u001b[0m, in \u001b[0;36mNDFrame._init_mgr\u001b[1;34m(cls, mgr, axes, dtype, copy)\u001b[0m\n\u001b[0;32m    292\u001b[0m \u001b[39mfor\u001b[39;00m a, axe \u001b[39min\u001b[39;00m axes\u001b[39m.\u001b[39mitems():\n\u001b[0;32m    293\u001b[0m     \u001b[39mif\u001b[39;00m axe \u001b[39mis\u001b[39;00m \u001b[39mnot\u001b[39;00m \u001b[39mNone\u001b[39;00m:\n\u001b[1;32m--> 294\u001b[0m         axe \u001b[39m=\u001b[39m ensure_index(axe)\n\u001b[0;32m    295\u001b[0m         bm_axis \u001b[39m=\u001b[39m \u001b[39mcls\u001b[39m\u001b[39m.\u001b[39m_get_block_manager_axis(a)\n\u001b[0;32m    296\u001b[0m         mgr \u001b[39m=\u001b[39m mgr\u001b[39m.\u001b[39mreindex_axis(axe, axis\u001b[39m=\u001b[39mbm_axis)\n",
      "File \u001b[1;32md:\\Python\\Lib\\site-packages\\pandas\\core\\indexes\\base.py:7128\u001b[0m, in \u001b[0;36mensure_index\u001b[1;34m(index_like, copy)\u001b[0m\n\u001b[0;32m   7126\u001b[0m         \u001b[39mreturn\u001b[39;00m Index(index_like, copy\u001b[39m=\u001b[39mcopy, tupleize_cols\u001b[39m=\u001b[39m\u001b[39mFalse\u001b[39;00m)\n\u001b[0;32m   7127\u001b[0m \u001b[39melse\u001b[39;00m:\n\u001b[1;32m-> 7128\u001b[0m     \u001b[39mreturn\u001b[39;00m Index(index_like, copy\u001b[39m=\u001b[39;49mcopy)\n",
      "File \u001b[1;32md:\\Python\\Lib\\site-packages\\pandas\\core\\indexes\\base.py:516\u001b[0m, in \u001b[0;36mIndex.__new__\u001b[1;34m(cls, data, dtype, copy, name, tupleize_cols)\u001b[0m\n\u001b[0;32m    513\u001b[0m         data \u001b[39m=\u001b[39m com\u001b[39m.\u001b[39masarray_tuplesafe(data, dtype\u001b[39m=\u001b[39m_dtype_obj)\n\u001b[0;32m    515\u001b[0m \u001b[39melif\u001b[39;00m is_scalar(data):\n\u001b[1;32m--> 516\u001b[0m     \u001b[39mraise\u001b[39;00m \u001b[39mcls\u001b[39;49m\u001b[39m.\u001b[39;49m_raise_scalar_data_error(data)\n\u001b[0;32m    517\u001b[0m \u001b[39melif\u001b[39;00m \u001b[39mhasattr\u001b[39m(data, \u001b[39m\"\u001b[39m\u001b[39m__array__\u001b[39m\u001b[39m\"\u001b[39m):\n\u001b[0;32m    518\u001b[0m     \u001b[39mreturn\u001b[39;00m Index(np\u001b[39m.\u001b[39masarray(data), dtype\u001b[39m=\u001b[39mdtype, copy\u001b[39m=\u001b[39mcopy, name\u001b[39m=\u001b[39mname)\n",
      "File \u001b[1;32md:\\Python\\Lib\\site-packages\\pandas\\core\\indexes\\base.py:5066\u001b[0m, in \u001b[0;36mIndex._raise_scalar_data_error\u001b[1;34m(cls, data)\u001b[0m\n\u001b[0;32m   5061\u001b[0m \u001b[39m@final\u001b[39m\n\u001b[0;32m   5062\u001b[0m \u001b[39m@classmethod\u001b[39m\n\u001b[0;32m   5063\u001b[0m \u001b[39mdef\u001b[39;00m \u001b[39m_raise_scalar_data_error\u001b[39m(\u001b[39mcls\u001b[39m, data):\n\u001b[0;32m   5064\u001b[0m     \u001b[39m# We return the TypeError so that we can raise it from the constructor\u001b[39;00m\n\u001b[0;32m   5065\u001b[0m     \u001b[39m#  in order to keep mypy happy\u001b[39;00m\n\u001b[1;32m-> 5066\u001b[0m     \u001b[39mraise\u001b[39;00m \u001b[39mTypeError\u001b[39;00m(\n\u001b[0;32m   5067\u001b[0m         \u001b[39mf\u001b[39m\u001b[39m\"\u001b[39m\u001b[39m{\u001b[39;00m\u001b[39mcls\u001b[39m\u001b[39m.\u001b[39m\u001b[39m__name__\u001b[39m\u001b[39m}\u001b[39;00m\u001b[39m(...) must be called with a collection of some \u001b[39m\u001b[39m\"\u001b[39m\n\u001b[0;32m   5068\u001b[0m         \u001b[39mf\u001b[39m\u001b[39m\"\u001b[39m\u001b[39mkind, \u001b[39m\u001b[39m{\u001b[39;00m\u001b[39mrepr\u001b[39m(data)\u001b[39m}\u001b[39;00m\u001b[39m was passed\u001b[39m\u001b[39m\"\u001b[39m\n\u001b[0;32m   5069\u001b[0m     )\n",
      "\u001b[1;31mTypeError\u001b[0m: Index(...) must be called with a collection of some kind, 'country' was passed"
     ]
    }
   ],
   "source": [
    "df = df.transpose()\n",
    "# df = pd.DataFrame(df, index='country')"
   ]
  },
  {
   "cell_type": "code",
   "execution_count": null,
   "metadata": {},
   "outputs": [],
   "source": []
  }
 ],
 "metadata": {
  "kernelspec": {
   "display_name": "Python 3",
   "language": "python",
   "name": "python3"
  },
  "language_info": {
   "codemirror_mode": {
    "name": "ipython",
    "version": 3
   },
   "file_extension": ".py",
   "mimetype": "text/x-python",
   "name": "python",
   "nbconvert_exporter": "python",
   "pygments_lexer": "ipython3",
   "version": "3.11.5"
  }
 },
 "nbformat": 4,
 "nbformat_minor": 2
}
